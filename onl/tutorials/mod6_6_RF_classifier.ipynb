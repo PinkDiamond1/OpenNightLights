{
 "cells": [
  {
   "cell_type": "markdown",
   "metadata": {},
   "source": [
    "<!-- [![Open In Colab](https://colab.research.google.com/assets/colab-badge.svg)](https://colab.research.google.com/github/NLTGit/OpenNightLights-colab-mirror/blob/master/onl/tutorials/mod5_4_comparing_cities.ipynb) -->\n",
    "update colab:\n",
    "\n",
    "# Random Forest Classifier\n",
    "\n",
    "Now that we have processed and explored our data, we will try to classify built-up areas with a Random Forest ensemble of decision trees.\n",
    "\n",
    "Decision tree models are among the most powerful, easy to use, and simple to understand models in the machine learning portfolio. The resources noted in {doc}`mod6_2_supervised_learning_img_classification` are a good place to start. Wikipedia has a comprehensive knowledge base as well if you want to understand general concepts: https://en.wikipedia.org/wiki/Random_forest\n",
    "\n",
    "More in-depth context on decision tree models and ensemble approaches like Random Forest are out of scope for this tutorial, but worth understanding well if you use them for your analysis, even exploration.\n",
    "\n",
    "## Training data\n",
    "\n",
    "Let's recreate the training data \"image\" for 2015 that fuses Sentinel-2, VIIRS-DNB and GHSL for the Bagmati province."
   ]
  },
  {
   "cell_type": "code",
   "execution_count": 9,
   "metadata": {},
   "outputs": [],
   "source": [
    "# import stuff\n",
    "import geemap, ee\n",
    "import numpy as np\n",
    "import pandas as pd\n",
    "import seaborn as sns\n",
    "import matplotlib.pyplot as plt\n",
    "\n",
    "try:\n",
    "        ee.Initialize()\n",
    "except Exception as e:\n",
    "        ee.Authenticate()\n",
    "        ee.Initialize()\n",
    "\n",
    "# define some functions and variables\n",
    "def se2mask(image):\n",
    "    quality_band = image.select('QA60')\n",
    "    cloudmask = 1 << 10\n",
    "    cirrusmask = 1 << 11\n",
    "    mask = quality_band.bitwiseAnd(cloudmask).eq(0) and (quality_band.bitwiseAnd(cirrusmask).eq(0))\n",
    "    return image.updateMask(mask).divide(10000)\n",
    "\n",
    "\n",
    "se2bands = ['B2', 'B3', 'B4', 'B5', 'B6', 'B7','B8','B8A']\n",
    "trainingbands = se2bands + ['avg_rad']\n",
    "label = 'smod_code'\n",
    "scaleFactor=1000\n",
    "\n",
    "# create training data\n",
    "roi = ee.FeatureCollection(\"FAO/GAUL/2015/level2\").filter(ee.Filter.eq('ADM2_NAME','Bagmati')).geometry()\n",
    "\n",
    "se2 = ee.ImageCollection('COPERNICUS/S2').filterDate(\n",
    "    \"2015-07-01\",\"2015-12-31\").filterBounds(roi).filter(\n",
    "    ee.Filter.lt(\"CLOUDY_PIXEL_PERCENTAGE\",20)).map(se2mask).median().select(se2bands).clip(roi)\n",
    "\n",
    "viirs = ee.Image(ee.ImageCollection(\"NOAA/VIIRS/DNB/MONTHLY_V1/VCMSLCFG\").filterDate(\n",
    "    \"2015-07-01\",\"2019-12-31\").filterBounds(roi).median().select('avg_rad').clip(roi))\n",
    "\n",
    "fused = se2.addBands(viirs)\n",
    "\n",
    "# create and overlay labels to training data\n",
    "ghsl = ee.ImageCollection('JRC/GHSL/P2016/SMOD_POP_GLOBE_V1').filter(ee.Filter.date(\n",
    "    '2015-01-01', '2015-12-31')).select(label).median().gte(2).clip(roi)\n",
    "\n",
    "points = ghsl.sample(**{\"region\":roi, \"scale\":scaleFactor,\"seed\":0,'geometries':True})\n",
    "\n",
    "data = fused.select(trainingbands).sampleRegions(collection=points,\n",
    "                                                        properties=[label],\n",
    "                                                        scale=scaleFactor)"
   ]
  },
  {
   "cell_type": "code",
   "execution_count": 2,
   "metadata": {},
   "outputs": [
    {
     "data": {
      "text/plain": [
       "{'max': 1,\n",
       " 'mean': 0.18796029458853666,\n",
       " 'min': 0,\n",
       " 'sample_sd': 0.39071173874702697,\n",
       " 'sample_var': 0.15265566279472506,\n",
       " 'sum': 1174,\n",
       " 'sum_sq': 1174,\n",
       " 'total_count': 6246,\n",
       " 'total_sd': 0.39068046053869543,\n",
       " 'total_var': 0.15263122224672718,\n",
       " 'valid_count': 6246,\n",
       " 'weight_sum': 6246,\n",
       " 'weighted_sum': 1174}"
      ]
     },
     "execution_count": 2,
     "metadata": {},
     "output_type": "execute_result"
    }
   ],
   "source": [
    "data.aggregate_stats(label).getInfo()"
   ]
  },
  {
   "cell_type": "markdown",
   "metadata": {},
   "source": [
    "## Cross-validation\n",
    "\n",
    "Cross-validation is one of the most important aspects of machine learning development. Last section we talked about several attributes of the training data that may impact classification:\n",
    "- varying spatial resolution and choices for re-sample rate\n",
    "- choices about data cleaning\n",
    "- decisions about which bands to include\n",
    "\n",
    "\n",
    "We also may decide to create new features (known as feature engineering) by transforming our data sources mathmatically (getting derivatives, information about neighboring pixels, etc) or even fusing additional data.\n",
    "\n",
    "The classification algorithm itself will have hyperparameters than may be adjusted (known as hyperparameter tuning). \n",
    "\n",
    "How do we decide these things? \n",
    "\n",
    "Often we will experiment empirically and see what works, this is a big advantage to computing speed and machine learning packages. However, if we just tweak our data until we get the best performance on our training data and leave it at that, we are at serious risk of over-fitting our model (making it too specific to our data on-hand). \n",
    "\n",
    "When we try inference on unseen data, it may likely perform terribly, which will impact your analysis and ultimately your stakeholders trust and ability to make informed decisions. This is bad and unfortunately a common challenge to avoid.\n",
    "\n",
    "That is our situation here: since we dont have any \"ground truth\" for our data after 2015 in terms of settlements, we will want to validate our classifier as best we can with the labeled data we have before \"releasing it to the wild.\"\n",
    "\n",
    "### train test split\n",
    "A key way to do that is to split our labeled data into two components: training and testing sets (or even train, validation and test sets). There are many strategies for this -- and unfortunately things can get quite complex with time series (since observations in time are \"dependent\" on observations before, we cannot fairly randomly split them). \n",
    "\n",
    "For our purposes, a simple 80/20 train/test split randomly among the pixels in our 2015 training image will be fine."
   ]
  },
  {
   "cell_type": "code",
   "execution_count": 3,
   "metadata": {},
   "outputs": [],
   "source": [
    "# we'll create a column of random numbers\n",
    "data = data.randomColumn(seed=0)\n",
    "split_thresh = 0.8\n",
    "\n",
    "train = data.filter(ee.Filter.lt('random',split_thresh))\n",
    "test = data.filter(ee.Filter.gte('random',split_thresh))"
   ]
  },
  {
   "cell_type": "code",
   "execution_count": 4,
   "metadata": {},
   "outputs": [
    {
     "data": {
      "text/plain": [
       "{'max': 1,\n",
       " 'mean': 0.185694361426579,\n",
       " 'min': 0,\n",
       " 'sample_sd': 0.3888985722164412,\n",
       " 'sample_var': 0.15124209947198652,\n",
       " 'sum': 932,\n",
       " 'sum_sq': 932,\n",
       " 'total_count': 5019,\n",
       " 'total_sd': 0.38885982765124255,\n",
       " 'total_var': 0.15121196556095406,\n",
       " 'valid_count': 5019,\n",
       " 'weight_sum': 5019,\n",
       " 'weighted_sum': 932}"
      ]
     },
     "execution_count": 4,
     "metadata": {},
     "output_type": "execute_result"
    }
   ],
   "source": [
    "train.aggregate_stats(label).getInfo()"
   ]
  },
  {
   "cell_type": "code",
   "execution_count": 5,
   "metadata": {},
   "outputs": [
    {
     "data": {
      "text/plain": [
       "{'max': 1,\n",
       " 'mean': 0.19387755102040816,\n",
       " 'min': 0,\n",
       " 'sample_sd': 0.3955022859415305,\n",
       " 'sample_var': 0.15642205818497612,\n",
       " 'sum': 228,\n",
       " 'sum_sq': 228,\n",
       " 'total_count': 1176,\n",
       " 'total_sd': 0.3953340944451126,\n",
       " 'total_var': 0.1562890462307372,\n",
       " 'valid_count': 1176,\n",
       " 'weight_sum': 1176,\n",
       " 'weighted_sum': 228}"
      ]
     },
     "execution_count": 5,
     "metadata": {},
     "output_type": "execute_result"
    }
   ],
   "source": [
    "test.aggregate_stats(label).getInfo()"
   ]
  },
  {
   "cell_type": "markdown",
   "metadata": {},
   "source": [
    "We have ~5,000 observations (pixels) in our training set and ~1,280 in our test set.\n",
    "\n",
    "And notice that summary statistics for our label are nearly identical, which we'd expect in a random split."
   ]
  },
  {
   "cell_type": "markdown",
   "metadata": {},
   "source": [
    "## Train the classifier\n",
    "\n",
    "Here we fit the Random Forest estimator to our training data using some initial hyperparameters."
   ]
  },
  {
   "cell_type": "code",
   "execution_count": 6,
   "metadata": {},
   "outputs": [],
   "source": [
    "init_params = {\"numberOfTrees\":100, # the number of individual decision tree models\n",
    "              \"variablesPerSplit\":None,  # the number of features to use per split\n",
    "              \"minLeafPopulation\":1, # smallest sample size possible per leaf\n",
    "              \"bagFraction\":0.5, # fraction of data to include for each individual tree model\n",
    "              \"maxNodes\":None, # max number of leafs/nodes per tree\n",
    "               \"seed\":0}  # random seed for \"random\" choices like sampling. Setting this allows others to reproduce your exact results even with stocastic parameters\n",
    "\n",
    "clf = ee.Classifier.smileRandomForest(**init_params).train(train, label, trainingbands)"
   ]
  },
  {
   "cell_type": "markdown",
   "metadata": {},
   "source": [
    "## Evaluation\n",
    "\n",
    "We need metrics to determine how well the classifier performs. We just have a simple binary schema so we can visaulize a confusion matrix, which shows the actual labels (y axis) and the predicted labels (x axis)."
   ]
  },
  {
   "cell_type": "code",
   "execution_count": 7,
   "metadata": {},
   "outputs": [],
   "source": [
    "trainResults = clf.confusionMatrix().getInfo()\n",
    "trainCM = pd.DataFrame(np.asarray(trainResults), index=['not','built-up'], columns=['not','built-up'])"
   ]
  },
  {
   "cell_type": "code",
   "execution_count": 10,
   "metadata": {},
   "outputs": [
    {
     "data": {
      "image/png": "[encoded data removed]",
      "text/plain": [
       "<Figure size 720x720 with 2 Axes>"
      ]
     },
     "metadata": {
      "needs_background": "light"
     },
     "output_type": "display_data"
    }
   ],
   "source": [
    "fig, ax = plt.subplots(1, figsize=(10,10))\n",
    "sns.heatmap(trainCM/trainCM.sum(axis=1), annot=True)\n",
    "ax.set_xlabel('model predictions', fontsize=20)\n",
    "ax.set_ylabel('actual', fontsize=20)\n",
    "plt.title(\"Training data confusion matrix\", fontsize=20);"
   ]
  },
  {
   "cell_type": "markdown",
   "metadata": {},
   "source": [
    "The matrix shows True Negatives (top left), False Positives (top right), True Positives (bottom right) and False Negatives (bottom left).\n",
    "\n",
    "Accuracy measures the ratio of hits for both postiive (built up) and negative (not) classes:\n",
    "\n",
    "$$ACC = \\frac{TP + TN}{TP + TN + FP + FN}$$"
   ]
  },
  {
   "cell_type": "code",
   "execution_count": 11,
   "metadata": {},
   "outputs": [
    {
     "name": "stdout",
     "output_type": "stream",
     "text": [
      "Our classifier has an accuracy of 0.99040 on the training data.\n"
     ]
    }
   ],
   "source": [
    "acc = (trainCM.loc['built-up','built-up'] + trainCM.loc['not','not']) / trainCM.sum().sum()\n",
    "\n",
    "print(f\"Our classifier has an accuracy of {acc:.5f} on the training data.\")"
   ]
  },
  {
   "cell_type": "markdown",
   "metadata": {},
   "source": [
    "With a balanced class (~50% built up and 50% not), this metric might be ok, assuming we didnt care at all about false positives or negatives. \n",
    "\n",
    "Consider the extreme example where 1 out of 100 observations are positive. A classifier could predict that everything is negative and be right 99 of 100 times...99% accuracy might be considered good, but there is no predictive power here and no information is yielded. \n",
    "\n",
    "Worse, if you do care about false negatives (say, if the test is for a disease or something with high stakes) you do not want a classifier that just predicts negatives naively.\n",
    "\n",
    "For binary classification, the <a href=\"https://en.wikipedia.org/wiki/Matthews_correlation_coefficient\">Matthews correlation coefficient</a> (based on Pearson's phi coefficient) is a better score:\n",
    "\n",
    "$$MCC = \\frac{TP * TN - FP * FN}{\\sqrt{(TP + FP)(TP + FN)(TN + FP)(TN + FN)}}$$"
   ]
  },
  {
   "cell_type": "code",
   "execution_count": 15,
   "metadata": {},
   "outputs": [
    {
     "name": "stdout",
     "output_type": "stream",
     "text": [
      "Our classifier has an MCC score of 0.96825 on the training data.\n"
     ]
    }
   ],
   "source": [
    "def get_mcc(cm, pos_label='built-up',neg_label='not'):\n",
    "    tp = cm.loc[pos_label, pos_label]\n",
    "    tn = cm.loc[neg_label, neg_label]\n",
    "    fn = cm.loc[pos_label, neg_label]\n",
    "    fp = cm.loc[neg_label, pos_label]\n",
    "    \n",
    "    return (tp * tn - fp * fn)/(np.sqrt((tp + fp)*(tp + fn) * (tn + fp)* (tn +fn)))\n",
    "\n",
    "mcc = get_mcc(trainCM)\n",
    "print(f\"Our classifier has an MCC score of {mcc:.5f} on the training data.\")"
   ]
  },
  {
   "cell_type": "markdown",
   "metadata": {},
   "source": [
    "### Test results\n",
    "\n",
    "Either way, the performance seems good, but remember this is the data we trained the classifier on, so it really just learned about this specific data. We need to look at the out sample that it was not trained on to get a better indication of how this classifier will do on data unseen data."
   ]
  },
  {
   "cell_type": "code",
   "execution_count": 17,
   "metadata": {},
   "outputs": [
    {
     "name": "stdout",
     "output_type": "stream",
     "text": [
      "Our classifier has an accuracy of 0.90179 on the test data.\n",
      "Our classifier has an MCC score of 0.63031 on the test data.\n"
     ]
    },
    {
     "data": {
      "image/png": "[encoded data removed]",
      "text/plain": [
       "<Figure size 720x720 with 2 Axes>"
      ]
     },
     "metadata": {
      "needs_background": "light"
     },
     "output_type": "display_data"
    }
   ],
   "source": [
    "testResults = test.classify(clf).errorMatrix(label, 'classification').getInfo()\n",
    "testCM = pd.DataFrame(np.asarray(testResults), index=['not','built-up'], columns=['not','built-up'])\n",
    "\n",
    "fig, ax = plt.subplots(1, figsize=(10,10))\n",
    "sns.heatmap(testCM/testCM.sum(axis=1), annot=True)\n",
    "ax.set_xlabel('model predictions', fontsize=20)\n",
    "ax.set_ylabel('actual', fontsize=20)\n",
    "plt.title(\"Test data confusion matrix\", fontsize=20);\n",
    "acc = (testCM.loc['built-up','built-up'] + testCM.loc['not','not']) / testCM.sum().sum()\n",
    "mcc = get_mcc(testCM)\n",
    "print(f\"Our classifier has an accuracy of {acc:.5f} on the test data.\")\n",
    "print(f\"Our classifier has an MCC score of {mcc:.5f} on the test data.\")"
   ]
  },
  {
   "cell_type": "markdown",
   "metadata": {},
   "source": [
    "We can see the difference in the confusion matrix and in the lower accuracy -- and far lower MCC scores.\n",
    "\n",
    "On unseen data, our classifier seems to be over-predicting built up areas.\n",
    "\n",
    "This might be important for our final analysis...if this over-prediction is based on some bias related to some effect in nighttime lights and our classifier is learning this bias, we might report increased economic growth in error.\n",
    "\n",
    "Let's see if increasing he number of estimators (trees) in our ensemble improves things on our test data results."
   ]
  },
  {
   "cell_type": "code",
   "execution_count": 19,
   "metadata": {},
   "outputs": [],
   "source": [
    "new_params = {\"numberOfTrees\":500, \n",
    "              \"variablesPerSplit\":None,  \n",
    "              \"minLeafPopulation\":1, \n",
    "              \"bagFraction\":0.5, \n",
    "              \"maxNodes\":None, \n",
    "               \"seed\":0}\n",
    "\n",
    "clf2 = ee.Classifier.smileRandomForest(**new_params).train(train, label, trainingbands)"
   ]
  },
  {
   "cell_type": "code",
   "execution_count": 21,
   "metadata": {},
   "outputs": [
    {
     "name": "stdout",
     "output_type": "stream",
     "text": [
      "Our classifier has an accuracy of 0.90049 on the test data.\n",
      "Our classifier has an MCC score of 0.63850 on the test data.\n"
     ]
    },
    {
     "data": {
      "image/png": "[encoded data removed]",
      "text/plain": [
       "<Figure size 720x720 with 2 Axes>"
      ]
     },
     "metadata": {
      "needs_background": "light"
     },
     "output_type": "display_data"
    }
   ],
   "source": [
    "testResults = test.classify(clf2).errorMatrix(label, 'classification').getInfo()\n",
    "testCM = pd.DataFrame(np.asarray(testResults), index=['not','built-up'], columns=['not','built-up'])\n",
    "\n",
    "fig, ax = plt.subplots(1, figsize=(10,10))\n",
    "sns.heatmap(testCM/testCM.sum(axis=1), annot=True)\n",
    "ax.set_xlabel('model predictions', fontsize=20)\n",
    "ax.set_ylabel('actual', fontsize=20)\n",
    "plt.title(\"Test data confusion matrix\", fontsize=20);\n",
    "acc = (testCM.loc['built-up','built-up'] + testCM.loc['not','not']) / testCM.sum().sum()\n",
    "mcc = get_mcc(testCM)\n",
    "print(f\"Our classifier has an accuracy of {acc:.5f} on the test data.\")\n",
    "print(f\"Our classifier has an MCC score of {mcc:.5f} on the test data.\")"
   ]
  },
  {
   "cell_type": "markdown",
   "metadata": {},
   "source": [
    "We see some incremental improvement. If you spend a lot of time with machine learning algorithms, you will see that model tuning at best usually delivers incremental results. But thinking more about the data (feature engineering, additional sources, etc) usually makes bigger improvements.\n",
    "\n",
    "What happens when we try cleaning the data like we did before?"
   ]
  },
  {
   "cell_type": "code",
   "execution_count": 40,
   "metadata": {},
   "outputs": [
    {
     "name": "stdout",
     "output_type": "stream",
     "text": [
      "Our classifier has an accuracy of 0.90191 on the test data.\n",
      "Our classifier has an MCC score of 0.64406 on the test data.\n"
     ]
    },
    {
     "data": {
      "image/png": "[encoded data removed]",
      "text/plain": [
       "<Figure size 720x720 with 2 Axes>"
      ]
     },
     "metadata": {
      "needs_background": "light"
     },
     "output_type": "display_data"
    }
   ],
   "source": [
    "vmu = viirs.reduceRegion(reducer=ee.Reducer.mean(),scale=scaleFactor)\n",
    "vstd = viirs.reduceRegion(reducer=ee.Reducer.stdDev(),scale=scaleFactor)\n",
    "\n",
    "vmu = ee.Number(vmu.get('avg_rad'))\n",
    "vstd = ee.Number(vstd.get('avg_rad'))\n",
    "\n",
    "viirsclean = viirs.subtract(vmu).divide(vstd)\n",
    "\n",
    "fusedclean = se2.addBands(viirsclean)\n",
    "\n",
    "dataclean = fusedclean.select(trainingbands).sampleRegions(collection=points,\n",
    "                                                        properties=[label],\n",
    "                                                        scale=scaleFactor)\n",
    "\n",
    "# we'll create a column of random numbers\n",
    "dataclean = dataclean.randomColumn(seed=0)\n",
    "split_thresh = 0.8\n",
    "\n",
    "trainclean = dataclean.filter(ee.Filter.lt('random',split_thresh))\n",
    "testclean = dataclean.filter(ee.Filter.gte('random',split_thresh))\n",
    "\n",
    "clf3 = ee.Classifier.smileRandomForest(**new_params).train(trainclean, label, trainingbands)\n",
    "\n",
    "testResults = testclean.classify(clf3).errorMatrix(label, 'classification').getInfo()\n",
    "testCM = pd.DataFrame(np.asarray(testResults), index=['not','built-up'], columns=['not','built-up'])\n",
    "\n",
    "fig, ax = plt.subplots(1, figsize=(10,10))\n",
    "sns.heatmap(testCM/testCM.sum(axis=1), annot=True)\n",
    "ax.set_xlabel('model predictions', fontsize=20)\n",
    "ax.set_ylabel('actual', fontsize=20)\n",
    "plt.title(\"Test data confusion matrix\", fontsize=20);\n",
    "acc = (testCM.loc['built-up','built-up'] + testCM.loc['not','not']) / testCM.sum().sum()\n",
    "mcc = get_mcc(testCM)\n",
    "print(f\"Our classifier has an accuracy of {acc:.5f} on the test data.\")\n",
    "print(f\"Our classifier has an MCC score of {mcc:.5f} on the test data.\")"
   ]
  },
  {
   "cell_type": "markdown",
   "metadata": {},
   "source": [
    "In a real scenario, you would spend a lot of time in this phase of research trying to validate your model. You should also look to independent sources of economic growth. We'll move on for now, but think about some ways you might improve this model using the data we have (or exploring other data!).\n",
    "\n",
    "## Visualize prediction\n",
    "\n",
    "Applying that last trained classifier on our entire image, we can visualize the predicted land cover."
   ]
  },
  {
   "cell_type": "code",
   "execution_count": 46,
   "metadata": {},
   "outputs": [],
   "source": [
    "result = fused.select(trainingbands).classify(clf3)"
   ]
  },
  {
   "cell_type": "code",
   "execution_count": 47,
   "metadata": {},
   "outputs": [
    {
     "data": {
      "application/vnd.jupyter.widget-view+json": {
       "model_id": "a76aac712f744a4a840b3cec647d6e0b",
       "version_major": 2,
       "version_minor": 0
      },
      "text/plain": [
       "Map(center=[27.87388743003947, 85.41973735675019], controls=(WidgetControl(options=['position'], widget=HBox(c…"
      ]
     },
     "metadata": {},
     "output_type": "display_data"
    }
   ],
   "source": [
    "ghslVis= {\"palette\":['000000', 'ffffff']}\n",
    "se2Vis = {\"min\":0.0, \"max\":0.3,\"bands\": ['B4','B3','B2']}\n",
    "\n",
    "# initialize our map\n",
    "map1 = geemap.Map()\n",
    "map1.centerObject(roi, 9)\n",
    "map1.addLayer(se2, se2Vis, \"S2\")\n",
    "map1.addLayer(viirsclean, {}, \"VIIRS-DNB\")\n",
    "map1.addLayer(ghsl, ghslVis, \"GHSL\")\n",
    "map1.addLayer(result.randomVisualizer(), {}, 'classified')\n",
    "map1.addLayerControl()\n",
    "map1"
   ]
  },
  {
   "cell_type": "markdown",
   "metadata": {},
   "source": [
    "We have some odd truncated edges likely due to the re-sampling process. Worth investigating further, but at at glance we can see the built up area (green) that appears quite close to what we would expect given the GHSL data"
   ]
  },
  {
   "cell_type": "code",
   "execution_count": null,
   "metadata": {},
   "outputs": [],
   "source": []
  }
 ],
 "metadata": {
  "hide_input": false,
  "kernelspec": {
   "display_name": "Python 3",
   "language": "python",
   "name": "python3"
  },
  "language_info": {
   "codemirror_mode": {
    "name": "ipython",
    "version": 3
   },
   "file_extension": ".py",
   "mimetype": "text/x-python",
   "name": "python",
   "nbconvert_exporter": "python",
   "pygments_lexer": "ipython3",
   "version": "3.8.6"
  },
  "toc": {
   "base_numbering": 1,
   "nav_menu": {},
   "number_sections": false,
   "sideBar": true,
   "skip_h1_title": false,
   "title_cell": "Table of Contents",
   "title_sidebar": "Contents",
   "toc_cell": false,
   "toc_position": {},
   "toc_section_display": true,
   "toc_window_display": false
  }
 },
 "nbformat": 4,
 "nbformat_minor": 4
}
