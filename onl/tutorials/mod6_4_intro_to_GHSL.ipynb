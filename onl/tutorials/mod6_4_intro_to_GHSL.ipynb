{
 "cells": [
  {
   "cell_type": "markdown",
   "metadata": {},
   "source": [
    "<!-- [![Open In Colab](https://colab.research.google.com/assets/colab-badge.svg)](https://colab.research.google.com/github/NLTGit/OpenNightLights-colab-mirror/blob/master/onl/tutorials/mod5_4_comparing_cities.ipynb) -->\n",
    "update colab:\n",
    "\n",
    "# Intro to World Settlement Footprint data\n",
    "\n",
    "Identifying areas of human settlement is a large area of focus in Earth Observation and many other disciplines.\n",
    "\n",
    "The World Settlement Footprint (WSF) dataset is a recent powerful tool for understanding areas of settlement\n",
    "\n",
    "For visualization we'll look at just the Red, Green and Blue channels and clip around Nepal. It was derived from multitemporal Sentinel-1 radar and Landsat-8 optical imagery and presents a binary classification of a pixel as representing a settlement (value=255) or not (value=0). The resolution is 0.32 arc seconds or approximately 10 meters!\n",
    "\n",
    "More information (and the data) are <a href=\"https://figshare.com/articles/dataset/World_Settlement_Footprint_WSF_2015/10048412\">available here</a> and by reading the original paper. {cite}`marconcini2020outlining`\n",
    "\n",
    "As noted earlier, this settlement data is representative of the conditions in 2015. So we will use this high-resolution special database to train our classifier, but will need to rely on our other data sources to see change over time after 2015.\n",
    "\n",
    "#### Note that for this exercise, you'll need to install a new Python package to your environment: xarray_leaflet\n",
    "(you can do that by uncommenting the following line. You only need to do this once)."
   ]
  },
  {
   "cell_type": "code",
   "execution_count": 1,
   "metadata": {},
   "outputs": [],
   "source": [
    "# !pip install xarray_leaflet"
   ]
  },
  {
   "cell_type": "markdown",
   "metadata": {},
   "source": [
    "## Download WSF data\n",
    "\n",
    "As of the creation of this tutorial, there does not appear to be any API access for these data. The data files are organized by tiles covering the globe, but you have to download everything as a single zip file. It is a 2.5 GB file, so it will take a few minutes.\n",
    "\n",
    "Download this file and remember where you save it on your computer.\n",
    "\n",
    "Fortunately, within this data folder, the data (stored as GeoTIFs) are organized by tiles that map to particular regions. \n",
    "\n",
    "Our simplest approach will be to identify the files that overlap Nepal and import those into our workspace.\n",
    "\n",
    "#### We'll initialize Geemap and grab the bounding box for Nepal"
   ]
  },
  {
   "cell_type": "code",
   "execution_count": 6,
   "metadata": {},
   "outputs": [],
   "source": [
    "import geemap, ee\n",
    "from pathlib import Path\n",
    "\n",
    "try:\n",
    "        ee.Initialize()\n",
    "except Exception as e:\n",
    "        ee.Authenticate()\n",
    "        ee.Initialize()\n",
    "\n",
    "# get our Nepal boundary\n",
    "# aoi = ee.FeatureCollection(\"FAO/GAUL/2015/level0\").filter(ee.Filter.eq('ADM0_NAME','Nepal'))\n",
    "\n",
    "# print(f\"the bounds of Nepal are: \\n{aoi.geometry().bounds().getInfo()}\")"
   ]
  },
  {
   "cell_type": "markdown",
   "metadata": {},
   "source": [
    "Navigate to the folder you just downloaded. Unzip (or extract) the files and within that folder you should find this file:\n",
    "- `WSF2015_v1_EPSG4326_e080_n30_e090_n20.tif` \n",
    "\n",
    "and bc just a wee bit is North of the 30th parallel, we'll need this too:\n",
    "- `WSF2015_v1_EPSG4326_e080_n40_e090_n30.tif`"
   ]
  },
  {
   "cell_type": "code",
   "execution_count": 4,
   "metadata": {},
   "outputs": [
    {
     "ename": "NameError",
     "evalue": "name 'Path' is not defined",
     "output_type": "error",
     "traceback": [
      "\u001b[0;31m---------------------------------------------------------------------------\u001b[0m",
      "\u001b[0;31mNameError\u001b[0m                                 Traceback (most recent call last)",
      "\u001b[0;32m<ipython-input-4-3c52dabd8a1c>\u001b[0m in \u001b[0;36m<module>\u001b[0;34m\u001b[0m\n\u001b[0;32m----> 1\u001b[0;31m \u001b[0mwsf\u001b[0m \u001b[0;34m=\u001b[0m \u001b[0mPath\u001b[0m\u001b[0;34m(\u001b[0m\u001b[0;34m\"files\"\u001b[0m\u001b[0;34m,\u001b[0m\u001b[0;34m\"WSF2015_v1_EPSG4326_e080_n30_e090_n20.tif\"\u001b[0m\u001b[0;34m)\u001b[0m\u001b[0;34m\u001b[0m\u001b[0;34m\u001b[0m\u001b[0m\n\u001b[0m\u001b[1;32m      2\u001b[0m \u001b[0mwsf\u001b[0m\u001b[0;34m\u001b[0m\u001b[0;34m\u001b[0m\u001b[0m\n",
      "\u001b[0;31mNameError\u001b[0m: name 'Path' is not defined"
     ]
    }
   ],
   "source": [
    "wsf = Path(\"files\",\"WSF2015_v1_EPSG4326_e080_n30_e090_n20.tif\")\n",
    "wsf"
   ]
  },
  {
   "cell_type": "code",
   "execution_count": 2,
   "metadata": {},
   "outputs": [],
   "source": [
    "import rasterio"
   ]
  },
  {
   "cell_type": "code",
   "execution_count": 3,
   "metadata": {},
   "outputs": [
    {
     "ename": "NameError",
     "evalue": "name 'wsf' is not defined",
     "output_type": "error",
     "traceback": [
      "\u001b[0;31m---------------------------------------------------------------------------\u001b[0m",
      "\u001b[0;31mNameError\u001b[0m                                 Traceback (most recent call last)",
      "\u001b[0;32m<ipython-input-3-dfdd1d8c94cc>\u001b[0m in \u001b[0;36m<module>\u001b[0;34m\u001b[0m\n\u001b[0;32m----> 1\u001b[0;31m \u001b[0;32mwith\u001b[0m \u001b[0mrasterio\u001b[0m\u001b[0;34m.\u001b[0m\u001b[0mopen\u001b[0m\u001b[0;34m(\u001b[0m\u001b[0mwsf\u001b[0m\u001b[0;34m)\u001b[0m \u001b[0;32mas\u001b[0m \u001b[0mf\u001b[0m\u001b[0;34m:\u001b[0m\u001b[0;34m\u001b[0m\u001b[0;34m\u001b[0m\u001b[0m\n\u001b[0m\u001b[1;32m      2\u001b[0m     \u001b[0mf\u001b[0m\u001b[0;34m.\u001b[0m\u001b[0mdata\u001b[0m\u001b[0;34m(\u001b[0m\u001b[0;34m)\u001b[0m\u001b[0;34m\u001b[0m\u001b[0;34m\u001b[0m\u001b[0m\n",
      "\u001b[0;31mNameError\u001b[0m: name 'wsf' is not defined"
     ]
    }
   ],
   "source": [
    "with rasterio.open(wsf) as f:\n",
    "    f.data()"
   ]
  },
  {
   "cell_type": "markdown",
   "metadata": {},
   "source": [
    "We can see a real color image of Nepal. We reduced our timeframe to the median of 2019 and it appears we've captured some clouds. We will make a cloud mask to clear the image up using Sentinel-2's QA band. We're modeling this (in Python) from the example used in GEE: https://developers.google.com/earth-engine/datasets/catalog/COPERNICUS_S2#bands"
   ]
  },
  {
   "cell_type": "markdown",
   "metadata": {},
   "source": [
    "## References:\n",
    "```{bibliography} ../references.bib\n",
    ":filter: docname in docnames\n",
    "```"
   ]
  },
  {
   "cell_type": "code",
   "execution_count": null,
   "metadata": {},
   "outputs": [],
   "source": []
  }
 ],
 "metadata": {
  "hide_input": false,
  "kernelspec": {
   "display_name": "Python 3",
   "language": "python",
   "name": "python3"
  },
  "language_info": {
   "codemirror_mode": {
    "name": "ipython",
    "version": 3
   },
   "file_extension": ".py",
   "mimetype": "text/x-python",
   "name": "python",
   "nbconvert_exporter": "python",
   "pygments_lexer": "ipython3",
   "version": "3.8.6"
  },
  "toc": {
   "base_numbering": 1,
   "nav_menu": {},
   "number_sections": false,
   "sideBar": true,
   "skip_h1_title": false,
   "title_cell": "Table of Contents",
   "title_sidebar": "Contents",
   "toc_cell": false,
   "toc_position": {},
   "toc_section_display": true,
   "toc_window_display": false
  }
 },
 "nbformat": 4,
 "nbformat_minor": 4
}
